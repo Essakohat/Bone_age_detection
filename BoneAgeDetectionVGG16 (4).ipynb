{
 "cells": [
  {
   "cell_type": "code",
   "execution_count": null,
   "metadata": {
    "id": "kqyrsP1jV4e3"
   },
   "outputs": [],
   "source": [
    "import numpy as np\n",
    "import matplotlib.pyplot as plt\n",
    "from tensorflow.keras.preprocessing.image import ImageDataGenerator\n",
    "from tensorflow.keras.models import Model\n",
    "from tensorflow.keras.layers import Dense, Flatten, Dropout\n",
    "from tensorflow.keras.applications import VGG16\n",
    "from tensorflow.keras.optimizers import Adam\n",
    "from tensorflow.keras.callbacks import ModelCheckpoint, EarlyStopping\n",
    "import tensorflow as tf\n",
    "import cv2"
   ]
  },
  {
   "cell_type": "code",
   "execution_count": 2,
   "metadata": {
    "colab": {
     "base_uri": "https://localhost:8080/"
    },
    "id": "hNfgF5rN4Ck-",
    "outputId": "ee2b94c8-a1c6-4395-eda9-cdef4c4253d6"
   },
   "outputs": [
    {
     "name": "stdout",
     "output_type": "stream",
     "text": [
      "Mounted at /content/drive\n"
     ]
    }
   ],
   "source": [
    "from google.colab import drive\n",
    "drive.mount('/content/drive')"
   ]
  },
  {
   "cell_type": "code",
   "execution_count": null,
   "metadata": {
    "id": "GxCdaG6gwSNb"
   },
   "outputs": [],
   "source": []
  },
  {
   "cell_type": "code",
   "execution_count": 9,
   "metadata": {
    "id": "TF1wmKjGXg_D"
   },
   "outputs": [],
   "source": [
    "base_model = VGG16(weights='imagenet', include_top=False, input_shape=(224, 224, 3))\n",
    "\n",
    "# Adding custom layers\n",
    "x = base_model.output\n",
    "x = Flatten()(x)  # output of VGG16 to 1D\n",
    "x = Dense(10, activation='relu')(x)  #connected layer\n",
    "#x = Dropout(0.5)(x)  # layer for overfitting permit\n",
    "predictions = Dense(1, activation='sigmoid')(x)\n",
    "\n",
    "\n",
    "model = Model(inputs=base_model.input, outputs=predictions)\n",
    "\n",
    "# Freeze the layers\n",
    "for layer in base_model.layers:\n",
    "    layer.trainable = False\n",
    "\n",
    "model.compile(optimizer=Adam(learning_rate=0.0001), loss='binary_crossentropy', metrics=['accuracy'])"
   ]
  },
  {
   "cell_type": "code",
   "execution_count": 4,
   "metadata": {
    "colab": {
     "base_uri": "https://localhost:8080/"
    },
    "id": "yRRZDZ1awTvp",
    "outputId": "82ef9100-d9df-4ce1-ab57-cf40dc2dc2af"
   },
   "outputs": [
    {
     "name": "stdout",
     "output_type": "stream",
     "text": [
      "Data split into train, validation, and test sets.\n"
     ]
    }
   ],
   "source": [
    "import os\n",
    "import random\n",
    "import shutil\n",
    "from math import floor\n",
    "\n",
    "# Paths to the original dataset\n",
    "dataset_dir = '/content/drive/MyDrive'  # Change this to your dataset directory\n",
    "bone_age_6_dir = os.path.join(dataset_dir, 'bone_age_6')\n",
    "bone_age_12_dir = os.path.join(dataset_dir, 'bone_age_12')\n",
    "\n",
    "# Paths for the new split directories\n",
    "split_dir = '/content/drive/MyDrive/dataset (1)'  # Where to save the split data\n",
    "\n",
    "train_dir = os.path.join(split_dir, 'train')\n",
    "val_dir = os.path.join(split_dir, 'validation')\n",
    "test_dir = os.path.join(split_dir, 'test')\n",
    "\n",
    "# Function to split data\n",
    "def split_data(class_dir, train_dir, val_dir, test_dir, train_size=0.7, val_size=0.2, test_size=0.1):\n",
    "    # List all the images in the class directory\n",
    "    images = os.listdir(class_dir)\n",
    "    random.shuffle(images)  # Shuffle the images randomly\n",
    "\n",
    "    total_images = len(images)\n",
    "    train_count = floor(train_size * total_images)\n",
    "    val_count = floor(val_size * total_images)\n",
    "    test_count = total_images - train_count - val_count  # Remaining for test\n",
    "\n",
    "    # Create class subdirectories for train, validation, and test if not exist\n",
    "    class_name = os.path.basename(class_dir)\n",
    "\n",
    "    os.makedirs(os.path.join(train_dir, class_name), exist_ok=True)\n",
    "    os.makedirs(os.path.join(val_dir, class_name), exist_ok=True)\n",
    "    os.makedirs(os.path.join(test_dir, class_name), exist_ok=True)\n",
    "\n",
    "    # Split the data\n",
    "    for i, img in enumerate(images):\n",
    "        src_path = os.path.join(class_dir, img)\n",
    "\n",
    "        if i < train_count:\n",
    "            dest_dir = os.path.join(train_dir, class_name)\n",
    "        elif i < train_count + val_count:\n",
    "            dest_dir = os.path.join(val_dir, class_name)\n",
    "        else:\n",
    "            dest_dir = os.path.join(test_dir, class_name)\n",
    "\n",
    "        # Move the image to the destination directory\n",
    "        shutil.copy(src_path, dest_dir)\n",
    "\n",
    "# Split the bone_age_6 images\n",
    "split_data(bone_age_6_dir, train_dir, val_dir, test_dir)\n",
    "\n",
    "# Split the bone_age_12 images\n",
    "split_data(bone_age_12_dir, train_dir, val_dir, test_dir)\n",
    "\n",
    "print(\"Data split into train, validation, and test sets.\")\n"
   ]
  },
  {
   "cell_type": "code",
   "execution_count": 5,
   "metadata": {
    "colab": {
     "base_uri": "https://localhost:8080/"
    },
    "id": "9UsmwZaEXnm4",
    "outputId": "8f9be932-7e6a-4ccd-d4ac-fad245c3fa90"
   },
   "outputs": [
    {
     "name": "stdout",
     "output_type": "stream",
     "text": [
      "Found 876 images belonging to 2 classes.\n",
      "Found 250 images belonging to 2 classes.\n"
     ]
    }
   ],
   "source": [
    "train_data_dir = '/content/drive/MyDrive/dataset (1)/train'\n",
    "valid_data_dir = '/content/drive/MyDrive/dataset (1)/validation'\n",
    "\n",
    "# Data augmentation for training\n",
    "train_datagen = ImageDataGenerator(\n",
    "    rescale=1./255,\n",
    "    rotation_range=40,\n",
    "    width_shift_range=0.2,\n",
    "    height_shift_range=0.2,\n",
    "    shear_range=0.2,\n",
    "    zoom_range=0.2,\n",
    "    horizontal_flip=True,\n",
    "    fill_mode='nearest'\n",
    ")\n",
    "\n",
    "# Only rescaling for validation\n",
    "valid_datagen = ImageDataGenerator(rescale=1./255)\n",
    "\n",
    "# Create data generators\n",
    "train_generator = train_datagen.flow_from_directory(\n",
    "    train_data_dir,\n",
    "    target_size=(224, 224),\n",
    "    batch_size=32,\n",
    "    class_mode='binary'\n",
    ")\n",
    "\n",
    "val_generator = valid_datagen.flow_from_directory(\n",
    "    valid_data_dir,\n",
    "    target_size=(224, 224),\n",
    "    batch_size=32,\n",
    "    class_mode='binary'\n",
    ")\n"
   ]
  },
  {
   "cell_type": "code",
   "execution_count": 10,
   "metadata": {
    "colab": {
     "base_uri": "https://localhost:8080/"
    },
    "id": "aVsUy1DXXyAA",
    "outputId": "a90f39d1-6780-48fd-b251-2a02671052b1"
   },
   "outputs": [
    {
     "name": "stdout",
     "output_type": "stream",
     "text": [
      "Epoch 1/20\n",
      "\u001b[1m28/28\u001b[0m \u001b[32m━━━━━━━━━━━━━━━━━━━━\u001b[0m\u001b[37m\u001b[0m \u001b[1m0s\u001b[0m 1s/step - accuracy: 0.4825 - loss: 0.7214\n",
      "Epoch 1: val_accuracy improved from -inf to 0.50000, saving model to best_model_VGG16.keras\n",
      "\u001b[1m28/28\u001b[0m \u001b[32m━━━━━━━━━━━━━━━━━━━━\u001b[0m\u001b[37m\u001b[0m \u001b[1m94s\u001b[0m 2s/step - accuracy: 0.4829 - loss: 0.7206 - val_accuracy: 0.5000 - val_loss: 0.6907\n",
      "Epoch 2/20\n",
      "\u001b[1m28/28\u001b[0m \u001b[32m━━━━━━━━━━━━━━━━━━━━\u001b[0m\u001b[37m\u001b[0m \u001b[1m0s\u001b[0m 1s/step - accuracy: 0.5338 - loss: 0.6848\n",
      "Epoch 2: val_accuracy improved from 0.50000 to 0.65600, saving model to best_model_VGG16.keras\n",
      "\u001b[1m28/28\u001b[0m \u001b[32m━━━━━━━━━━━━━━━━━━━━\u001b[0m\u001b[37m\u001b[0m \u001b[1m103s\u001b[0m 2s/step - accuracy: 0.5342 - loss: 0.6848 - val_accuracy: 0.6560 - val_loss: 0.6848\n",
      "Epoch 3/20\n",
      "\u001b[1m28/28\u001b[0m \u001b[32m━━━━━━━━━━━━━━━━━━━━\u001b[0m\u001b[37m\u001b[0m \u001b[1m0s\u001b[0m 1s/step - accuracy: 0.5194 - loss: 0.6913\n",
      "Epoch 3: val_accuracy did not improve from 0.65600\n",
      "\u001b[1m28/28\u001b[0m \u001b[32m━━━━━━━━━━━━━━━━━━━━\u001b[0m\u001b[37m\u001b[0m \u001b[1m51s\u001b[0m 2s/step - accuracy: 0.5198 - loss: 0.6913 - val_accuracy: 0.6360 - val_loss: 0.6900\n",
      "Epoch 4/20\n",
      "\u001b[1m28/28\u001b[0m \u001b[32m━━━━━━━━━━━━━━━━━━━━\u001b[0m\u001b[37m\u001b[0m \u001b[1m0s\u001b[0m 1s/step - accuracy: 0.5636 - loss: 0.6858\n",
      "Epoch 4: val_accuracy improved from 0.65600 to 0.68400, saving model to best_model_VGG16.keras\n",
      "\u001b[1m28/28\u001b[0m \u001b[32m━━━━━━━━━━━━━━━━━━━━\u001b[0m\u001b[37m\u001b[0m \u001b[1m83s\u001b[0m 1s/step - accuracy: 0.5630 - loss: 0.6857 - val_accuracy: 0.6840 - val_loss: 0.6759\n",
      "Epoch 5/20\n",
      "\u001b[1m28/28\u001b[0m \u001b[32m━━━━━━━━━━━━━━━━━━━━\u001b[0m\u001b[37m\u001b[0m \u001b[1m0s\u001b[0m 1s/step - accuracy: 0.6069 - loss: 0.6621\n",
      "Epoch 5: val_accuracy did not improve from 0.68400\n",
      "\u001b[1m28/28\u001b[0m \u001b[32m━━━━━━━━━━━━━━━━━━━━\u001b[0m\u001b[37m\u001b[0m \u001b[1m81s\u001b[0m 1s/step - accuracy: 0.6063 - loss: 0.6622 - val_accuracy: 0.6640 - val_loss: 0.6477\n",
      "Epoch 6/20\n",
      "\u001b[1m28/28\u001b[0m \u001b[32m━━━━━━━━━━━━━━━━━━━━\u001b[0m\u001b[37m\u001b[0m \u001b[1m0s\u001b[0m 1s/step - accuracy: 0.5373 - loss: 0.6698\n",
      "Epoch 6: val_accuracy did not improve from 0.68400\n",
      "\u001b[1m28/28\u001b[0m \u001b[32m━━━━━━━━━━━━━━━━━━━━\u001b[0m\u001b[37m\u001b[0m \u001b[1m82s\u001b[0m 1s/step - accuracy: 0.5380 - loss: 0.6699 - val_accuracy: 0.5640 - val_loss: 0.6533\n",
      "Epoch 7/20\n",
      "\u001b[1m28/28\u001b[0m \u001b[32m━━━━━━━━━━━━━━━━━━━━\u001b[0m\u001b[37m\u001b[0m \u001b[1m0s\u001b[0m 1s/step - accuracy: 0.5776 - loss: 0.6594\n",
      "Epoch 7: val_accuracy did not improve from 0.68400\n",
      "\u001b[1m28/28\u001b[0m \u001b[32m━━━━━━━━━━━━━━━━━━━━\u001b[0m\u001b[37m\u001b[0m \u001b[1m83s\u001b[0m 2s/step - accuracy: 0.5775 - loss: 0.6594 - val_accuracy: 0.6200 - val_loss: 0.6418\n",
      "Epoch 8/20\n",
      "\u001b[1m28/28\u001b[0m \u001b[32m━━━━━━━━━━━━━━━━━━━━\u001b[0m\u001b[37m\u001b[0m \u001b[1m0s\u001b[0m 1s/step - accuracy: 0.6088 - loss: 0.6652\n",
      "Epoch 8: val_accuracy did not improve from 0.68400\n",
      "\u001b[1m28/28\u001b[0m \u001b[32m━━━━━━━━━━━━━━━━━━━━\u001b[0m\u001b[37m\u001b[0m \u001b[1m84s\u001b[0m 2s/step - accuracy: 0.6082 - loss: 0.6653 - val_accuracy: 0.5640 - val_loss: 0.6495\n",
      "Epoch 9/20\n",
      "\u001b[1m28/28\u001b[0m \u001b[32m━━━━━━━━━━━━━━━━━━━━\u001b[0m\u001b[37m\u001b[0m \u001b[1m0s\u001b[0m 1s/step - accuracy: 0.5937 - loss: 0.6648\n",
      "Epoch 9: val_accuracy did not improve from 0.68400\n",
      "\u001b[1m28/28\u001b[0m \u001b[32m━━━━━━━━━━━━━━━━━━━━\u001b[0m\u001b[37m\u001b[0m \u001b[1m79s\u001b[0m 2s/step - accuracy: 0.5935 - loss: 0.6647 - val_accuracy: 0.6000 - val_loss: 0.6248\n",
      "Epoch 10/20\n",
      "\u001b[1m28/28\u001b[0m \u001b[32m━━━━━━━━━━━━━━━━━━━━\u001b[0m\u001b[37m\u001b[0m \u001b[1m0s\u001b[0m 1s/step - accuracy: 0.6035 - loss: 0.6507\n",
      "Epoch 10: val_accuracy did not improve from 0.68400\n",
      "\u001b[1m28/28\u001b[0m \u001b[32m━━━━━━━━━━━━━━━━━━━━\u001b[0m\u001b[37m\u001b[0m \u001b[1m52s\u001b[0m 2s/step - accuracy: 0.6029 - loss: 0.6510 - val_accuracy: 0.5880 - val_loss: 0.6527\n",
      "Epoch 11/20\n",
      "\u001b[1m28/28\u001b[0m \u001b[32m━━━━━━━━━━━━━━━━━━━━\u001b[0m\u001b[37m\u001b[0m \u001b[1m0s\u001b[0m 1s/step - accuracy: 0.6065 - loss: 0.6636\n",
      "Epoch 11: val_accuracy did not improve from 0.68400\n",
      "\u001b[1m28/28\u001b[0m \u001b[32m━━━━━━━━━━━━━━━━━━━━\u001b[0m\u001b[37m\u001b[0m \u001b[1m52s\u001b[0m 1s/step - accuracy: 0.6062 - loss: 0.6635 - val_accuracy: 0.6160 - val_loss: 0.6166\n",
      "Epoch 12/20\n",
      "\u001b[1m28/28\u001b[0m \u001b[32m━━━━━━━━━━━━━━━━━━━━\u001b[0m\u001b[37m\u001b[0m \u001b[1m0s\u001b[0m 1s/step - accuracy: 0.6048 - loss: 0.6475\n",
      "Epoch 12: val_accuracy did not improve from 0.68400\n",
      "\u001b[1m28/28\u001b[0m \u001b[32m━━━━━━━━━━━━━━━━━━━━\u001b[0m\u001b[37m\u001b[0m \u001b[1m52s\u001b[0m 1s/step - accuracy: 0.6052 - loss: 0.6473 - val_accuracy: 0.6400 - val_loss: 0.6114\n",
      "Epoch 13/20\n",
      "\u001b[1m28/28\u001b[0m \u001b[32m━━━━━━━━━━━━━━━━━━━━\u001b[0m\u001b[37m\u001b[0m \u001b[1m0s\u001b[0m 1s/step - accuracy: 0.5861 - loss: 0.6483\n",
      "Epoch 13: val_accuracy did not improve from 0.68400\n",
      "\u001b[1m28/28\u001b[0m \u001b[32m━━━━━━━━━━━━━━━━━━━━\u001b[0m\u001b[37m\u001b[0m \u001b[1m53s\u001b[0m 1s/step - accuracy: 0.5865 - loss: 0.6481 - val_accuracy: 0.6480 - val_loss: 0.6033\n",
      "Epoch 14/20\n",
      "\u001b[1m28/28\u001b[0m \u001b[32m━━━━━━━━━━━━━━━━━━━━\u001b[0m\u001b[37m\u001b[0m \u001b[1m0s\u001b[0m 1s/step - accuracy: 0.6284 - loss: 0.6502\n",
      "Epoch 14: val_accuracy did not improve from 0.68400\n",
      "\u001b[1m28/28\u001b[0m \u001b[32m━━━━━━━━━━━━━━━━━━━━\u001b[0m\u001b[37m\u001b[0m \u001b[1m52s\u001b[0m 2s/step - accuracy: 0.6278 - loss: 0.6501 - val_accuracy: 0.6200 - val_loss: 0.6047\n",
      "Epoch 15/20\n",
      "\u001b[1m28/28\u001b[0m \u001b[32m━━━━━━━━━━━━━━━━━━━━\u001b[0m\u001b[37m\u001b[0m \u001b[1m0s\u001b[0m 1s/step - accuracy: 0.5943 - loss: 0.6359\n",
      "Epoch 15: val_accuracy did not improve from 0.68400\n",
      "\u001b[1m28/28\u001b[0m \u001b[32m━━━━━━━━━━━━━━━━━━━━\u001b[0m\u001b[37m\u001b[0m \u001b[1m82s\u001b[0m 1s/step - accuracy: 0.5946 - loss: 0.6357 - val_accuracy: 0.6280 - val_loss: 0.6035\n",
      "Epoch 16/20\n",
      "\u001b[1m28/28\u001b[0m \u001b[32m━━━━━━━━━━━━━━━━━━━━\u001b[0m\u001b[37m\u001b[0m \u001b[1m0s\u001b[0m 1s/step - accuracy: 0.5874 - loss: 0.6588\n",
      "Epoch 16: val_accuracy did not improve from 0.68400\n",
      "\u001b[1m28/28\u001b[0m \u001b[32m━━━━━━━━━━━━━━━━━━━━\u001b[0m\u001b[37m\u001b[0m \u001b[1m53s\u001b[0m 1s/step - accuracy: 0.5877 - loss: 0.6587 - val_accuracy: 0.6280 - val_loss: 0.6085\n",
      "Epoch 17/20\n",
      "\u001b[1m28/28\u001b[0m \u001b[32m━━━━━━━━━━━━━━━━━━━━\u001b[0m\u001b[37m\u001b[0m \u001b[1m0s\u001b[0m 1s/step - accuracy: 0.6125 - loss: 0.6349\n",
      "Epoch 17: val_accuracy improved from 0.68400 to 0.70000, saving model to best_model_VGG16.keras\n",
      "\u001b[1m28/28\u001b[0m \u001b[32m━━━━━━━━━━━━━━━━━━━━\u001b[0m\u001b[37m\u001b[0m \u001b[1m84s\u001b[0m 2s/step - accuracy: 0.6121 - loss: 0.6349 - val_accuracy: 0.7000 - val_loss: 0.5833\n",
      "Epoch 18/20\n",
      "\u001b[1m28/28\u001b[0m \u001b[32m━━━━━━━━━━━━━━━━━━━━\u001b[0m\u001b[37m\u001b[0m \u001b[1m0s\u001b[0m 1s/step - accuracy: 0.6066 - loss: 0.6320\n",
      "Epoch 18: val_accuracy improved from 0.70000 to 0.74000, saving model to best_model_VGG16.keras\n",
      "\u001b[1m28/28\u001b[0m \u001b[32m━━━━━━━━━━━━━━━━━━━━\u001b[0m\u001b[37m\u001b[0m \u001b[1m80s\u001b[0m 1s/step - accuracy: 0.6068 - loss: 0.6320 - val_accuracy: 0.7400 - val_loss: 0.5686\n",
      "Epoch 19/20\n",
      "\u001b[1m28/28\u001b[0m \u001b[32m━━━━━━━━━━━━━━━━━━━━\u001b[0m\u001b[37m\u001b[0m \u001b[1m0s\u001b[0m 1s/step - accuracy: 0.6136 - loss: 0.6261\n",
      "Epoch 19: val_accuracy did not improve from 0.74000\n",
      "\u001b[1m28/28\u001b[0m \u001b[32m━━━━━━━━━━━━━━━━━━━━\u001b[0m\u001b[37m\u001b[0m \u001b[1m52s\u001b[0m 2s/step - accuracy: 0.6135 - loss: 0.6260 - val_accuracy: 0.7080 - val_loss: 0.5773\n",
      "Epoch 20/20\n",
      "\u001b[1m28/28\u001b[0m \u001b[32m━━━━━━━━━━━━━━━━━━━━\u001b[0m\u001b[37m\u001b[0m \u001b[1m0s\u001b[0m 1s/step - accuracy: 0.6109 - loss: 0.6186\n",
      "Epoch 20: val_accuracy did not improve from 0.74000\n",
      "\u001b[1m28/28\u001b[0m \u001b[32m━━━━━━━━━━━━━━━━━━━━\u001b[0m\u001b[37m\u001b[0m \u001b[1m52s\u001b[0m 1s/step - accuracy: 0.6114 - loss: 0.6184 - val_accuracy: 0.6920 - val_loss: 0.5737\n",
      "Restoring model weights from the end of the best epoch: 18.\n"
     ]
    }
   ],
   "source": [
    "# Callbacks for saving the best model and early stopping\n",
    "checkpoint = ModelCheckpoint(\n",
    "    'best_model_VGG16.keras',\n",
    "     monitor='val_accuracy',  # Monitors validation accuracy\n",
    "     save_best_only=True,  # Save only when accuracy improves\n",
    "     mode='max',  # Maximize accuracy\n",
    "     verbose=1  # Print update messages\n",
    "    )\n",
    "\n",
    "early_stopping = EarlyStopping(\n",
    "    monitor='val_loss',  # Monitors validation loss\n",
    "    patience=5,  # Stop training after 5 epochs with no improvement\n",
    "    restore_best_weights=True,  # Restore the best model after stopping\n",
    "    verbose=1  # Print update messages\n",
    "\n",
    "    )\n",
    "\n",
    "#  Train the model\n",
    "history = model.fit(\n",
    "    train_generator,\n",
    "    epochs=20,  # Max number of epochs\n",
    "    validation_data=val_generator,\n",
    "    # validation_steps=val_generator.samples // val_generator.batch_size,  # Steps per validation epoch\n",
    "    callbacks=[checkpoint, early_stopping],\n",
    "    verbose=1\n",
    ")"
   ]
  },
  {
   "cell_type": "code",
   "execution_count": 11,
   "metadata": {
    "colab": {
     "base_uri": "https://localhost:8080/",
     "height": 927
    },
    "id": "53CE3x86XzaS",
    "outputId": "89b5ef7c-525e-4197-f2cb-0ec48dfb6b5d"
   },
   "outputs": [
    {
     "data": {
      "image/png": "[encoded data removed]",
      "text/plain": [
       "<Figure size 640x480 with 1 Axes>"
      ]
     },
     "metadata": {},
     "output_type": "display_data"
    },
    {
     "data": {
      "image/png": "[encoded data removed]",
      "text/plain": [
       "<Figure size 640x480 with 1 Axes>"
      ]
     },
     "metadata": {},
     "output_type": "display_data"
    }
   ],
   "source": [
    "# Plot training and validation accuracy/loss with required changes\n",
    "\n",
    "# Accuracy Plot\n",
    "plt.plot(history.history['accuracy'], label='Train Accuracy')\n",
    "plt.plot(history.history['val_accuracy'], label='Val Accuracy')\n",
    "plt.title('Training and Validation Accuracy')\n",
    "plt.xlabel('Epochs')\n",
    "plt.ylabel('Accuracy')\n",
    "\n",
    "# Setting x-axis from 0 to 20 in whole numbers\n",
    "plt.xticks(range(1, 21, 1))  # Showing epochs as whole numbers from 1 to 20\n",
    "\n",
    "# Setting y-axis for accuracy from 0.0 to 0.90\n",
    "plt.ylim(0.00, 0.92)\n",
    "\n",
    "plt.legend()\n",
    "plt.show()\n",
    "\n",
    "# Loss Plot\n",
    "plt.plot(history.history['loss'], label='Train Loss')\n",
    "plt.plot(history.history['val_loss'], label='Val Loss')\n",
    "plt.title('Training and Validation Loss')\n",
    "plt.xlabel('Epochs')\n",
    "plt.ylabel('Loss')\n",
    "\n",
    "# Setting x-axis from 0 to 20 in whole numbers\n",
    "plt.xticks(range(1, 21, 1))  # Showing epochs as whole numbers from 1 to 20\n",
    "\n",
    "# Setting y-axis for loss from 0.0 to 0.90\n",
    "plt.ylim(0.00, 0.92)\n",
    "\n",
    "plt.legend()\n",
    "plt.show()"
   ]
  },
  {
   "cell_type": "code",
   "execution_count": 12,
   "metadata": {
    "colab": {
     "base_uri": "https://localhost:8080/",
     "height": 17
    },
    "id": "E9-_D6GspbIc",
    "outputId": "e7a40f0d-bbd5-4756-aaad-efbf2324fa73"
   },
   "outputs": [
    {
     "data": {
      "application/javascript": "\n    async function download(id, filename, size) {\n      if (!google.colab.kernel.accessAllowed) {\n        return;\n      }\n      const div = document.createElement('div');\n      const label = document.createElement('label');\n      label.textContent = `Downloading \"${filename}\": `;\n      div.appendChild(label);\n      const progress = document.createElement('progress');\n      progress.max = size;\n      div.appendChild(progress);\n      document.body.appendChild(div);\n\n      const buffers = [];\n      let downloaded = 0;\n\n      const channel = await google.colab.kernel.comms.open(id);\n      // Send a message to notify the kernel that we're ready.\n      channel.send({})\n\n      for await (const message of channel.messages) {\n        // Send a message to notify the kernel that we're ready.\n        channel.send({})\n        if (message.buffers) {\n          for (const buffer of message.buffers) {\n            buffers.push(buffer);\n            downloaded += buffer.byteLength;\n            progress.value = downloaded;\n          }\n        }\n      }\n      const blob = new Blob(buffers, {type: 'application/binary'});\n      const a = document.createElement('a');\n      a.href = window.URL.createObjectURL(blob);\n      a.download = filename;\n      div.appendChild(a);\n      a.click();\n      div.remove();\n    }\n  ",
      "text/plain": [
       "<IPython.core.display.Javascript object>"
      ]
     },
     "metadata": {},
     "output_type": "display_data"
    },
    {
     "data": {
      "application/javascript": "download(\"download_19032aa1-b2d3-4bcb-83c9-97a9c1133f2f\", \"best_model_VGG16.keras\", 61956079)",
      "text/plain": [
       "<IPython.core.display.Javascript object>"
      ]
     },
     "metadata": {},
     "output_type": "display_data"
    }
   ],
   "source": [
    "from google.colab import files\n",
    "\n",
    "# # Download the model\n",
    "files.download('/content/best_model_VGG16.keras')\n",
    "\n",
    "# # Found 1002 images belonging to 2 classes.\n",
    "# # Found 250 images belonging to 2 classes.\n",
    "# # train {'bone_age_12': 0, 'bone_age_6': 1}\n",
    "# # valid  {'bone_age_12': 0, 'bone_age_6': 1}\n"
   ]
  },
  {
   "cell_type": "code",
   "execution_count": 13,
   "metadata": {
    "colab": {
     "base_uri": "https://localhost:8080/"
    },
    "id": "qWu3pvq4_EwB",
    "outputId": "6ed0e5c4-c599-4a55-8d51-4d3ea5655b67"
   },
   "outputs": [
    {
     "name": "stdout",
     "output_type": "stream",
     "text": [
      "Model loaded successfully!\n",
      "TensorFlow version: 2.17.0\n",
      "Keras version: 3.4.1\n"
     ]
    }
   ],
   "source": [
    "from tensorflow.keras.models import load_model\n",
    "\n",
    "# Load the saved model from Google Drive\n",
    "model_path = '/content/drive/MyDrive/dataset/best_model_VGG16.keras'\n",
    "model = load_model(model_path)\n",
    "\n",
    "print(\"Model loaded successfully!\")\n",
    "\n",
    "import tensorflow as tf\n",
    "print(\"TensorFlow version:\", tf.__version__)\n",
    "print(\"Keras version:\", tf.keras.__version__)\n"
   ]
  },
  {
   "cell_type": "code",
   "execution_count": 14,
   "metadata": {
    "colab": {
     "base_uri": "https://localhost:8080/"
    },
    "id": "jcmIiDzc_FTC",
    "outputId": "58b52506-a2ea-45b2-8a3e-4b8ba5317cf4"
   },
   "outputs": [
    {
     "name": "stdout",
     "output_type": "stream",
     "text": [
      "Found 126 images belonging to 2 classes.\n",
      "{'bone_age_12': 0, 'bone_age_6': 1}\n"
     ]
    }
   ],
   "source": [
    "import numpy as np\n",
    "from tensorflow.keras.preprocessing import image\n",
    "import os\n",
    "\n",
    "# Path to the test directory\n",
    "test_dir = '/content/drive/MyDrive/dataset (1)/test'\n",
    "\n",
    "# Load and preprocess test images one by one\n",
    "test_datagen = ImageDataGenerator(rescale=1./255)  # Rescale images\n",
    "\n",
    "# Load images from the test directory\n",
    "test_generator = test_datagen.flow_from_directory(\n",
    "    test_dir,\n",
    "    target_size=(224, 224),\n",
    "    batch_size=1,  # One image at a time\n",
    "    class_mode=None,  # No labels as we just want predictions\n",
    "    shuffle=False  # Ensure images are processed in order\n",
    ")\n",
    "\n",
    "print(test_generator.class_indices)\n",
    "\n"
   ]
  },
  {
   "cell_type": "code",
   "execution_count": 15,
   "metadata": {
    "colab": {
     "base_uri": "https://localhost:8080/"
    },
    "id": "euUALiBm_Fks",
    "outputId": "4b8c922b-1cb5-43ab-a903-59af259149ee"
   },
   "outputs": [
    {
     "name": "stdout",
     "output_type": "stream",
     "text": [
      "\u001b[1m1/1\u001b[0m \u001b[32m━━━━━━━━━━━━━━━━━━━━\u001b[0m\u001b[37m\u001b[0m \u001b[1m2s\u001b[0m 2s/step\n",
      "bone_age_12/10240.png - Prediction: Bone Age 12 (Confidence: 0.91)\n",
      "\u001b[1m1/1\u001b[0m \u001b[32m━━━━━━━━━━━━━━━━━━━━\u001b[0m\u001b[37m\u001b[0m \u001b[1m0s\u001b[0m 17ms/step\n",
      "bone_age_12/10273.png - Prediction: Bone Age 12 (Confidence: 0.69)\n",
      "\u001b[1m1/1\u001b[0m \u001b[32m━━━━━━━━━━━━━━━━━━━━\u001b[0m\u001b[37m\u001b[0m \u001b[1m0s\u001b[0m 21ms/step\n",
      "bone_age_12/10302.png - Prediction: Bone Age 12 (Confidence: 0.57)\n",
      "\u001b[1m1/1\u001b[0m \u001b[32m━━━━━━━━━━━━━━━━━━━━\u001b[0m\u001b[37m\u001b[0m \u001b[1m0s\u001b[0m 21ms/step\n",
      "bone_age_12/10413.png - Prediction: Bone Age 12 (Confidence: 0.79)\n",
      "\u001b[1m1/1\u001b[0m \u001b[32m━━━━━━━━━━━━━━━━━━━━\u001b[0m\u001b[37m\u001b[0m \u001b[1m0s\u001b[0m 20ms/step\n",
      "bone_age_12/10422.png - Prediction: Bone Age 12 (Confidence: 0.65)\n",
      "\u001b[1m1/1\u001b[0m \u001b[32m━━━━━━━━━━━━━━━━━━━━\u001b[0m\u001b[37m\u001b[0m \u001b[1m0s\u001b[0m 18ms/step\n",
      "bone_age_12/10484.png - Prediction: Bone Age 12 (Confidence: 0.92)\n",
      "\u001b[1m1/1\u001b[0m \u001b[32m━━━━━━━━━━━━━━━━━━━━\u001b[0m\u001b[37m\u001b[0m \u001b[1m0s\u001b[0m 17ms/step\n",
      "bone_age_12/10555.png - Prediction: Bone Age 12 (Confidence: 0.67)\n",
      "\u001b[1m1/1\u001b[0m \u001b[32m━━━━━━━━━━━━━━━━━━━━\u001b[0m\u001b[37m\u001b[0m \u001b[1m0s\u001b[0m 20ms/step\n",
      "bone_age_12/10562.png - Prediction: Bone Age 12 (Confidence: 0.91)\n",
      "\u001b[1m1/1\u001b[0m \u001b[32m━━━━━━━━━━━━━━━━━━━━\u001b[0m\u001b[37m\u001b[0m \u001b[1m0s\u001b[0m 18ms/step\n",
      "bone_age_12/10720.png - Prediction: Bone Age 12 (Confidence: 0.63)\n",
      "\u001b[1m1/1\u001b[0m \u001b[32m━━━━━━━━━━━━━━━━━━━━\u001b[0m\u001b[37m\u001b[0m \u001b[1m0s\u001b[0m 19ms/step\n",
      "bone_age_12/10867.png - Prediction: Bone Age 12 (Confidence: 0.55)\n",
      "\u001b[1m1/1\u001b[0m \u001b[32m━━━━━━━━━━━━━━━━━━━━\u001b[0m\u001b[37m\u001b[0m \u001b[1m0s\u001b[0m 18ms/step\n",
      "bone_age_12/11019.png - Prediction: Bone Age 12 (Confidence: 0.63)\n",
      "\u001b[1m1/1\u001b[0m \u001b[32m━━━━━━━━━━━━━━━━━━━━\u001b[0m\u001b[37m\u001b[0m \u001b[1m0s\u001b[0m 20ms/step\n",
      "bone_age_12/11294.png - Prediction: Bone Age 12 (Confidence: 0.93)\n",
      "\u001b[1m1/1\u001b[0m \u001b[32m━━━━━━━━━━━━━━━━━━━━\u001b[0m\u001b[37m\u001b[0m \u001b[1m0s\u001b[0m 20ms/step\n",
      "bone_age_12/11526.png - Prediction: Bone Age 12 (Confidence: 0.86)\n",
      "\u001b[1m1/1\u001b[0m \u001b[32m━━━━━━━━━━━━━━━━━━━━\u001b[0m\u001b[37m\u001b[0m \u001b[1m0s\u001b[0m 18ms/step\n",
      "bone_age_12/11548.png - Prediction: Bone Age 12 (Confidence: 0.53)\n",
      "\u001b[1m1/1\u001b[0m \u001b[32m━━━━━━━━━━━━━━━━━━━━\u001b[0m\u001b[37m\u001b[0m \u001b[1m0s\u001b[0m 23ms/step\n",
      "bone_age_12/11689.png - Prediction: Bone Age 12 (Confidence: 0.67)\n",
      "\u001b[1m1/1\u001b[0m \u001b[32m━━━━━━━━━━━━━━━━━━━━\u001b[0m\u001b[37m\u001b[0m \u001b[1m0s\u001b[0m 18ms/step\n",
      "bone_age_12/11787.png - Prediction: Bone Age 12 (Confidence: 0.69)\n",
      "\u001b[1m1/1\u001b[0m \u001b[32m━━━━━━━━━━━━━━━━━━━━\u001b[0m\u001b[37m\u001b[0m \u001b[1m0s\u001b[0m 18ms/step\n",
      "bone_age_12/11863.png - Prediction: Bone Age 12 (Confidence: 0.50)\n",
      "\u001b[1m1/1\u001b[0m \u001b[32m━━━━━━━━━━━━━━━━━━━━\u001b[0m\u001b[37m\u001b[0m \u001b[1m0s\u001b[0m 18ms/step\n",
      "bone_age_12/12149.png - Prediction: Bone Age 12 (Confidence: 0.60)\n",
      "\u001b[1m1/1\u001b[0m \u001b[32m━━━━━━━━━━━━━━━━━━━━\u001b[0m\u001b[37m\u001b[0m \u001b[1m0s\u001b[0m 20ms/step\n",
      "bone_age_12/12167.png - Prediction: Bone Age 12 (Confidence: 0.92)\n",
      "\u001b[1m1/1\u001b[0m \u001b[32m━━━━━━━━━━━━━━━━━━━━\u001b[0m\u001b[37m\u001b[0m \u001b[1m0s\u001b[0m 19ms/step\n",
      "bone_age_12/12238.png - Prediction: Bone Age 12 (Confidence: 0.67)\n",
      "\u001b[1m1/1\u001b[0m \u001b[32m━━━━━━━━━━━━━━━━━━━━\u001b[0m\u001b[37m\u001b[0m \u001b[1m0s\u001b[0m 18ms/step\n",
      "bone_age_12/12511.png - Prediction: Bone Age 12 (Confidence: 0.87)\n",
      "\u001b[1m1/1\u001b[0m \u001b[32m━━━━━━━━━━━━━━━━━━━━\u001b[0m\u001b[37m\u001b[0m \u001b[1m0s\u001b[0m 18ms/step\n",
      "bone_age_12/12530.png - Prediction: Bone Age 6 (Confidence: 0.74)\n",
      "\u001b[1m1/1\u001b[0m \u001b[32m━━━━━━━━━━━━━━━━━━━━\u001b[0m\u001b[37m\u001b[0m \u001b[1m0s\u001b[0m 18ms/step\n",
      "bone_age_12/12562.png - Prediction: Bone Age 12 (Confidence: 0.79)\n",
      "\u001b[1m1/1\u001b[0m \u001b[32m━━━━━━━━━━━━━━━━━━━━\u001b[0m\u001b[37m\u001b[0m \u001b[1m0s\u001b[0m 18ms/step\n",
      "bone_age_12/12576.png - Prediction: Bone Age 12 (Confidence: 0.81)\n",
      "\u001b[1m1/1\u001b[0m \u001b[32m━━━━━━━━━━━━━━━━━━━━\u001b[0m\u001b[37m\u001b[0m \u001b[1m0s\u001b[0m 18ms/step\n",
      "bone_age_12/12840.png - Prediction: Bone Age 12 (Confidence: 0.89)\n",
      "\u001b[1m1/1\u001b[0m \u001b[32m━━━━━━━━━━━━━━━━━━━━\u001b[0m\u001b[37m\u001b[0m \u001b[1m0s\u001b[0m 20ms/step\n",
      "bone_age_12/12855.png - Prediction: Bone Age 12 (Confidence: 0.78)\n",
      "\u001b[1m1/1\u001b[0m \u001b[32m━━━━━━━━━━━━━━━━━━━━\u001b[0m\u001b[37m\u001b[0m \u001b[1m0s\u001b[0m 21ms/step\n",
      "bone_age_12/12897.png - Prediction: Bone Age 12 (Confidence: 0.80)\n",
      "\u001b[1m1/1\u001b[0m \u001b[32m━━━━━━━━━━━━━━━━━━━━\u001b[0m\u001b[37m\u001b[0m \u001b[1m0s\u001b[0m 33ms/step\n",
      "bone_age_12/12918.png - Prediction: Bone Age 6 (Confidence: 0.51)\n",
      "\u001b[1m1/1\u001b[0m \u001b[32m━━━━━━━━━━━━━━━━━━━━\u001b[0m\u001b[37m\u001b[0m \u001b[1m0s\u001b[0m 19ms/step\n",
      "bone_age_12/13536.png - Prediction: Bone Age 12 (Confidence: 0.75)\n",
      "\u001b[1m1/1\u001b[0m \u001b[32m━━━━━━━━━━━━━━━━━━━━\u001b[0m\u001b[37m\u001b[0m \u001b[1m0s\u001b[0m 19ms/step\n",
      "bone_age_12/13594.png - Prediction: Bone Age 12 (Confidence: 0.86)\n",
      "\u001b[1m1/1\u001b[0m \u001b[32m━━━━━━━━━━━━━━━━━━━━\u001b[0m\u001b[37m\u001b[0m \u001b[1m0s\u001b[0m 18ms/step\n",
      "bone_age_12/13639.png - Prediction: Bone Age 12 (Confidence: 0.85)\n",
      "\u001b[1m1/1\u001b[0m \u001b[32m━━━━━━━━━━━━━━━━━━━━\u001b[0m\u001b[37m\u001b[0m \u001b[1m0s\u001b[0m 21ms/step\n",
      "bone_age_12/13666.png - Prediction: Bone Age 12 (Confidence: 0.78)\n",
      "\u001b[1m1/1\u001b[0m \u001b[32m━━━━━━━━━━━━━━━━━━━━\u001b[0m\u001b[37m\u001b[0m \u001b[1m0s\u001b[0m 17ms/step\n",
      "bone_age_12/13667.png - Prediction: Bone Age 12 (Confidence: 0.86)\n",
      "\u001b[1m1/1\u001b[0m \u001b[32m━━━━━━━━━━━━━━━━━━━━\u001b[0m\u001b[37m\u001b[0m \u001b[1m0s\u001b[0m 18ms/step\n",
      "bone_age_12/13703.png - Prediction: Bone Age 12 (Confidence: 0.85)\n",
      "\u001b[1m1/1\u001b[0m \u001b[32m━━━━━━━━━━━━━━━━━━━━\u001b[0m\u001b[37m\u001b[0m \u001b[1m0s\u001b[0m 19ms/step\n",
      "bone_age_12/13761.png - Prediction: Bone Age 12 (Confidence: 0.86)\n",
      "\u001b[1m1/1\u001b[0m \u001b[32m━━━━━━━━━━━━━━━━━━━━\u001b[0m\u001b[37m\u001b[0m \u001b[1m0s\u001b[0m 18ms/step\n",
      "bone_age_12/14104.png - Prediction: Bone Age 12 (Confidence: 0.58)\n",
      "\u001b[1m1/1\u001b[0m \u001b[32m━━━━━━━━━━━━━━━━━━━━\u001b[0m\u001b[37m\u001b[0m \u001b[1m0s\u001b[0m 26ms/step\n",
      "bone_age_12/14304.png - Prediction: Bone Age 12 (Confidence: 0.67)\n",
      "\u001b[1m1/1\u001b[0m \u001b[32m━━━━━━━━━━━━━━━━━━━━\u001b[0m\u001b[37m\u001b[0m \u001b[1m0s\u001b[0m 18ms/step\n",
      "bone_age_12/14362.png - Prediction: Bone Age 12 (Confidence: 0.73)\n",
      "\u001b[1m1/1\u001b[0m \u001b[32m━━━━━━━━━━━━━━━━━━━━\u001b[0m\u001b[37m\u001b[0m \u001b[1m0s\u001b[0m 18ms/step\n",
      "bone_age_12/14405.png - Prediction: Bone Age 12 (Confidence: 0.85)\n",
      "\u001b[1m1/1\u001b[0m \u001b[32m━━━━━━━━━━━━━━━━━━━━\u001b[0m\u001b[37m\u001b[0m \u001b[1m0s\u001b[0m 21ms/step\n",
      "bone_age_12/14592.png - Prediction: Bone Age 12 (Confidence: 0.82)\n",
      "\u001b[1m1/1\u001b[0m \u001b[32m━━━━━━━━━━━━━━━━━━━━\u001b[0m\u001b[37m\u001b[0m \u001b[1m0s\u001b[0m 24ms/step\n",
      "bone_age_12/14634.png - Prediction: Bone Age 12 (Confidence: 0.90)\n",
      "\u001b[1m1/1\u001b[0m \u001b[32m━━━━━━━━━━━━━━━━━━━━\u001b[0m\u001b[37m\u001b[0m \u001b[1m0s\u001b[0m 18ms/step\n",
      "bone_age_12/14720.png - Prediction: Bone Age 12 (Confidence: 0.55)\n",
      "\u001b[1m1/1\u001b[0m \u001b[32m━━━━━━━━━━━━━━━━━━━━\u001b[0m\u001b[37m\u001b[0m \u001b[1m0s\u001b[0m 17ms/step\n",
      "bone_age_12/14745.png - Prediction: Bone Age 12 (Confidence: 0.87)\n",
      "\u001b[1m1/1\u001b[0m \u001b[32m━━━━━━━━━━━━━━━━━━━━\u001b[0m\u001b[37m\u001b[0m \u001b[1m0s\u001b[0m 17ms/step\n",
      "bone_age_12/14762.png - Prediction: Bone Age 12 (Confidence: 0.78)\n",
      "\u001b[1m1/1\u001b[0m \u001b[32m━━━━━━━━━━━━━━━━━━━━\u001b[0m\u001b[37m\u001b[0m \u001b[1m0s\u001b[0m 18ms/step\n",
      "bone_age_12/14862.png - Prediction: Bone Age 12 (Confidence: 0.69)\n",
      "\u001b[1m1/1\u001b[0m \u001b[32m━━━━━━━━━━━━━━━━━━━━\u001b[0m\u001b[37m\u001b[0m \u001b[1m0s\u001b[0m 20ms/step\n",
      "bone_age_12/14902.png - Prediction: Bone Age 12 (Confidence: 0.86)\n",
      "\u001b[1m1/1\u001b[0m \u001b[32m━━━━━━━━━━━━━━━━━━━━\u001b[0m\u001b[37m\u001b[0m \u001b[1m0s\u001b[0m 18ms/step\n",
      "bone_age_12/15014.png - Prediction: Bone Age 12 (Confidence: 0.80)\n",
      "\u001b[1m1/1\u001b[0m \u001b[32m━━━━━━━━━━━━━━━━━━━━\u001b[0m\u001b[37m\u001b[0m \u001b[1m0s\u001b[0m 42ms/step\n",
      "bone_age_12/15095.png - Prediction: Bone Age 12 (Confidence: 0.67)\n",
      "\u001b[1m1/1\u001b[0m \u001b[32m━━━━━━━━━━━━━━━━━━━━\u001b[0m\u001b[37m\u001b[0m \u001b[1m0s\u001b[0m 30ms/step\n",
      "bone_age_12/15171.png - Prediction: Bone Age 12 (Confidence: 0.86)\n",
      "\u001b[1m1/1\u001b[0m \u001b[32m━━━━━━━━━━━━━━━━━━━━\u001b[0m\u001b[37m\u001b[0m \u001b[1m0s\u001b[0m 25ms/step\n",
      "bone_age_12/15348.png - Prediction: Bone Age 12 (Confidence: 0.76)\n",
      "\u001b[1m1/1\u001b[0m \u001b[32m━━━━━━━━━━━━━━━━━━━━\u001b[0m\u001b[37m\u001b[0m \u001b[1m0s\u001b[0m 25ms/step\n",
      "bone_age_12/15397.png - Prediction: Bone Age 12 (Confidence: 0.82)\n",
      "\u001b[1m1/1\u001b[0m \u001b[32m━━━━━━━━━━━━━━━━━━━━\u001b[0m\u001b[37m\u001b[0m \u001b[1m0s\u001b[0m 26ms/step\n",
      "bone_age_12/15470.png - Prediction: Bone Age 12 (Confidence: 0.85)\n",
      "\u001b[1m1/1\u001b[0m \u001b[32m━━━━━━━━━━━━━━━━━━━━\u001b[0m\u001b[37m\u001b[0m \u001b[1m0s\u001b[0m 36ms/step\n",
      "bone_age_12/15485.png - Prediction: Bone Age 12 (Confidence: 0.75)\n",
      "\u001b[1m1/1\u001b[0m \u001b[32m━━━━━━━━━━━━━━━━━━━━\u001b[0m\u001b[37m\u001b[0m \u001b[1m0s\u001b[0m 25ms/step\n",
      "bone_age_12/15543.png - Prediction: Bone Age 12 (Confidence: 0.93)\n",
      "\u001b[1m1/1\u001b[0m \u001b[32m━━━━━━━━━━━━━━━━━━━━\u001b[0m\u001b[37m\u001b[0m \u001b[1m0s\u001b[0m 25ms/step\n",
      "bone_age_12/8796.png - Prediction: Bone Age 12 (Confidence: 0.62)\n",
      "\u001b[1m1/1\u001b[0m \u001b[32m━━━━━━━━━━━━━━━━━━━━\u001b[0m\u001b[37m\u001b[0m \u001b[1m0s\u001b[0m 26ms/step\n",
      "bone_age_12/8857.png - Prediction: Bone Age 12 (Confidence: 0.79)\n",
      "\u001b[1m1/1\u001b[0m \u001b[32m━━━━━━━━━━━━━━━━━━━━\u001b[0m\u001b[37m\u001b[0m \u001b[1m0s\u001b[0m 28ms/step\n",
      "bone_age_12/9475.png - Prediction: Bone Age 12 (Confidence: 0.84)\n",
      "\u001b[1m1/1\u001b[0m \u001b[32m━━━━━━━━━━━━━━━━━━━━\u001b[0m\u001b[37m\u001b[0m \u001b[1m0s\u001b[0m 24ms/step\n",
      "bone_age_12/9522.png - Prediction: Bone Age 12 (Confidence: 0.85)\n",
      "\u001b[1m1/1\u001b[0m \u001b[32m━━━━━━━━━━━━━━━━━━━━\u001b[0m\u001b[37m\u001b[0m \u001b[1m0s\u001b[0m 28ms/step\n",
      "bone_age_12/9532.png - Prediction: Bone Age 12 (Confidence: 0.75)\n",
      "\u001b[1m1/1\u001b[0m \u001b[32m━━━━━━━━━━━━━━━━━━━━\u001b[0m\u001b[37m\u001b[0m \u001b[1m0s\u001b[0m 29ms/step\n",
      "bone_age_12/9668.png - Prediction: Bone Age 12 (Confidence: 0.73)\n",
      "\u001b[1m1/1\u001b[0m \u001b[32m━━━━━━━━━━━━━━━━━━━━\u001b[0m\u001b[37m\u001b[0m \u001b[1m0s\u001b[0m 24ms/step\n",
      "bone_age_12/9677.png - Prediction: Bone Age 12 (Confidence: 0.72)\n",
      "\u001b[1m1/1\u001b[0m \u001b[32m━━━━━━━━━━━━━━━━━━━━\u001b[0m\u001b[37m\u001b[0m \u001b[1m0s\u001b[0m 31ms/step\n",
      "bone_age_12/9783.png - Prediction: Bone Age 12 (Confidence: 0.64)\n",
      "\u001b[1m1/1\u001b[0m \u001b[32m━━━━━━━━━━━━━━━━━━━━\u001b[0m\u001b[37m\u001b[0m \u001b[1m0s\u001b[0m 25ms/step\n",
      "bone_age_12/9795.png - Prediction: Bone Age 12 (Confidence: 0.55)\n",
      "\u001b[1m1/1\u001b[0m \u001b[32m━━━━━━━━━━━━━━━━━━━━\u001b[0m\u001b[37m\u001b[0m \u001b[1m0s\u001b[0m 25ms/step\n",
      "bone_age_6/10006.png - Prediction: Bone Age 6 (Confidence: 0.66)\n",
      "\u001b[1m1/1\u001b[0m \u001b[32m━━━━━━━━━━━━━━━━━━━━\u001b[0m\u001b[37m\u001b[0m \u001b[1m0s\u001b[0m 25ms/step\n",
      "bone_age_6/10017.png - Prediction: Bone Age 6 (Confidence: 0.83)\n",
      "\u001b[1m1/1\u001b[0m \u001b[32m━━━━━━━━━━━━━━━━━━━━\u001b[0m\u001b[37m\u001b[0m \u001b[1m0s\u001b[0m 31ms/step\n",
      "bone_age_6/10077.png - Prediction: Bone Age 6 (Confidence: 0.69)\n",
      "\u001b[1m1/1\u001b[0m \u001b[32m━━━━━━━━━━━━━━━━━━━━\u001b[0m\u001b[37m\u001b[0m \u001b[1m0s\u001b[0m 26ms/step\n",
      "bone_age_6/10321.png - Prediction: Bone Age 6 (Confidence: 0.69)\n",
      "\u001b[1m1/1\u001b[0m \u001b[32m━━━━━━━━━━━━━━━━━━━━\u001b[0m\u001b[37m\u001b[0m \u001b[1m0s\u001b[0m 31ms/step\n",
      "bone_age_6/10502.png - Prediction: Bone Age 6 (Confidence: 0.64)\n",
      "\u001b[1m1/1\u001b[0m \u001b[32m━━━━━━━━━━━━━━━━━━━━\u001b[0m\u001b[37m\u001b[0m \u001b[1m0s\u001b[0m 40ms/step\n",
      "bone_age_6/10563.png - Prediction: Bone Age 6 (Confidence: 0.51)\n",
      "\u001b[1m1/1\u001b[0m \u001b[32m━━━━━━━━━━━━━━━━━━━━\u001b[0m\u001b[37m\u001b[0m \u001b[1m0s\u001b[0m 34ms/step\n",
      "bone_age_6/11115.png - Prediction: Bone Age 6 (Confidence: 0.92)\n",
      "\u001b[1m1/1\u001b[0m \u001b[32m━━━━━━━━━━━━━━━━━━━━\u001b[0m\u001b[37m\u001b[0m \u001b[1m0s\u001b[0m 27ms/step\n",
      "bone_age_6/11229.png - Prediction: Bone Age 12 (Confidence: 0.61)\n",
      "\u001b[1m1/1\u001b[0m \u001b[32m━━━━━━━━━━━━━━━━━━━━\u001b[0m\u001b[37m\u001b[0m \u001b[1m0s\u001b[0m 31ms/step\n",
      "bone_age_6/11253.png - Prediction: Bone Age 6 (Confidence: 0.80)\n",
      "\u001b[1m1/1\u001b[0m \u001b[32m━━━━━━━━━━━━━━━━━━━━\u001b[0m\u001b[37m\u001b[0m \u001b[1m0s\u001b[0m 19ms/step\n",
      "bone_age_6/11395.png - Prediction: Bone Age 12 (Confidence: 0.56)\n",
      "\u001b[1m1/1\u001b[0m \u001b[32m━━━━━━━━━━━━━━━━━━━━\u001b[0m\u001b[37m\u001b[0m \u001b[1m0s\u001b[0m 19ms/step\n",
      "bone_age_6/11666.png - Prediction: Bone Age 6 (Confidence: 0.53)\n",
      "\u001b[1m1/1\u001b[0m \u001b[32m━━━━━━━━━━━━━━━━━━━━\u001b[0m\u001b[37m\u001b[0m \u001b[1m0s\u001b[0m 19ms/step\n",
      "bone_age_6/11904.png - Prediction: Bone Age 6 (Confidence: 0.57)\n",
      "\u001b[1m1/1\u001b[0m \u001b[32m━━━━━━━━━━━━━━━━━━━━\u001b[0m\u001b[37m\u001b[0m \u001b[1m0s\u001b[0m 24ms/step\n",
      "bone_age_6/11938.png - Prediction: Bone Age 12 (Confidence: 0.52)\n",
      "\u001b[1m1/1\u001b[0m \u001b[32m━━━━━━━━━━━━━━━━━━━━\u001b[0m\u001b[37m\u001b[0m \u001b[1m0s\u001b[0m 19ms/step\n",
      "bone_age_6/12148.png - Prediction: Bone Age 12 (Confidence: 0.71)\n",
      "\u001b[1m1/1\u001b[0m \u001b[32m━━━━━━━━━━━━━━━━━━━━\u001b[0m\u001b[37m\u001b[0m \u001b[1m0s\u001b[0m 20ms/step\n",
      "bone_age_6/12714.png - Prediction: Bone Age 6 (Confidence: 0.81)\n",
      "\u001b[1m1/1\u001b[0m \u001b[32m━━━━━━━━━━━━━━━━━━━━\u001b[0m\u001b[37m\u001b[0m \u001b[1m0s\u001b[0m 18ms/step\n",
      "bone_age_6/12821.png - Prediction: Bone Age 6 (Confidence: 0.86)\n",
      "\u001b[1m1/1\u001b[0m \u001b[32m━━━━━━━━━━━━━━━━━━━━\u001b[0m\u001b[37m\u001b[0m \u001b[1m0s\u001b[0m 19ms/step\n",
      "bone_age_6/12998.png - Prediction: Bone Age 12 (Confidence: 0.60)\n",
      "\u001b[1m1/1\u001b[0m \u001b[32m━━━━━━━━━━━━━━━━━━━━\u001b[0m\u001b[37m\u001b[0m \u001b[1m0s\u001b[0m 23ms/step\n",
      "bone_age_6/13075.png - Prediction: Bone Age 6 (Confidence: 0.62)\n",
      "\u001b[1m1/1\u001b[0m \u001b[32m━━━━━━━━━━━━━━━━━━━━\u001b[0m\u001b[37m\u001b[0m \u001b[1m0s\u001b[0m 21ms/step\n",
      "bone_age_6/13258.png - Prediction: Bone Age 12 (Confidence: 0.75)\n",
      "\u001b[1m1/1\u001b[0m \u001b[32m━━━━━━━━━━━━━━━━━━━━\u001b[0m\u001b[37m\u001b[0m \u001b[1m0s\u001b[0m 19ms/step\n",
      "bone_age_6/13283.png - Prediction: Bone Age 6 (Confidence: 0.56)\n",
      "\u001b[1m1/1\u001b[0m \u001b[32m━━━━━━━━━━━━━━━━━━━━\u001b[0m\u001b[37m\u001b[0m \u001b[1m0s\u001b[0m 19ms/step\n",
      "bone_age_6/13526.png - Prediction: Bone Age 6 (Confidence: 0.87)\n",
      "\u001b[1m1/1\u001b[0m \u001b[32m━━━━━━━━━━━━━━━━━━━━\u001b[0m\u001b[37m\u001b[0m \u001b[1m0s\u001b[0m 23ms/step\n",
      "bone_age_6/13552.png - Prediction: Bone Age 6 (Confidence: 0.65)\n",
      "\u001b[1m1/1\u001b[0m \u001b[32m━━━━━━━━━━━━━━━━━━━━\u001b[0m\u001b[37m\u001b[0m \u001b[1m0s\u001b[0m 18ms/step\n",
      "bone_age_6/13557.png - Prediction: Bone Age 12 (Confidence: 0.51)\n",
      "\u001b[1m1/1\u001b[0m \u001b[32m━━━━━━━━━━━━━━━━━━━━\u001b[0m\u001b[37m\u001b[0m \u001b[1m0s\u001b[0m 19ms/step\n",
      "bone_age_6/13777.png - Prediction: Bone Age 12 (Confidence: 0.56)\n",
      "\u001b[1m1/1\u001b[0m \u001b[32m━━━━━━━━━━━━━━━━━━━━\u001b[0m\u001b[37m\u001b[0m \u001b[1m0s\u001b[0m 18ms/step\n",
      "bone_age_6/1414.png - Prediction: Bone Age 6 (Confidence: 0.92)\n",
      "\u001b[1m1/1\u001b[0m \u001b[32m━━━━━━━━━━━━━━━━━━━━\u001b[0m\u001b[37m\u001b[0m \u001b[1m0s\u001b[0m 21ms/step\n",
      "bone_age_6/14244.png - Prediction: Bone Age 6 (Confidence: 0.77)\n",
      "\u001b[1m1/1\u001b[0m \u001b[32m━━━━━━━━━━━━━━━━━━━━\u001b[0m\u001b[37m\u001b[0m \u001b[1m0s\u001b[0m 20ms/step\n",
      "bone_age_6/14525.png - Prediction: Bone Age 6 (Confidence: 0.53)\n",
      "\u001b[1m1/1\u001b[0m \u001b[32m━━━━━━━━━━━━━━━━━━━━\u001b[0m\u001b[37m\u001b[0m \u001b[1m0s\u001b[0m 18ms/step\n",
      "bone_age_6/14644.png - Prediction: Bone Age 6 (Confidence: 0.52)\n",
      "\u001b[1m1/1\u001b[0m \u001b[32m━━━━━━━━━━━━━━━━━━━━\u001b[0m\u001b[37m\u001b[0m \u001b[1m0s\u001b[0m 18ms/step\n",
      "bone_age_6/14711.png - Prediction: Bone Age 6 (Confidence: 0.66)\n",
      "\u001b[1m1/1\u001b[0m \u001b[32m━━━━━━━━━━━━━━━━━━━━\u001b[0m\u001b[37m\u001b[0m \u001b[1m0s\u001b[0m 20ms/step\n",
      "bone_age_6/14722.png - Prediction: Bone Age 12 (Confidence: 0.55)\n",
      "\u001b[1m1/1\u001b[0m \u001b[32m━━━━━━━━━━━━━━━━━━━━\u001b[0m\u001b[37m\u001b[0m \u001b[1m0s\u001b[0m 21ms/step\n",
      "bone_age_6/14755.png - Prediction: Bone Age 12 (Confidence: 0.61)\n",
      "\u001b[1m1/1\u001b[0m \u001b[32m━━━━━━━━━━━━━━━━━━━━\u001b[0m\u001b[37m\u001b[0m \u001b[1m0s\u001b[0m 21ms/step\n",
      "bone_age_6/14761.png - Prediction: Bone Age 6 (Confidence: 0.67)\n",
      "\u001b[1m1/1\u001b[0m \u001b[32m━━━━━━━━━━━━━━━━━━━━\u001b[0m\u001b[37m\u001b[0m \u001b[1m0s\u001b[0m 18ms/step\n",
      "bone_age_6/15321.png - Prediction: Bone Age 6 (Confidence: 0.91)\n",
      "\u001b[1m1/1\u001b[0m \u001b[32m━━━━━━━━━━━━━━━━━━━━\u001b[0m\u001b[37m\u001b[0m \u001b[1m0s\u001b[0m 18ms/step\n",
      "bone_age_6/1692.png - Prediction: Bone Age 6 (Confidence: 0.81)\n",
      "\u001b[1m1/1\u001b[0m \u001b[32m━━━━━━━━━━━━━━━━━━━━\u001b[0m\u001b[37m\u001b[0m \u001b[1m0s\u001b[0m 18ms/step\n",
      "bone_age_6/1782.png - Prediction: Bone Age 6 (Confidence: 0.91)\n",
      "\u001b[1m1/1\u001b[0m \u001b[32m━━━━━━━━━━━━━━━━━━━━\u001b[0m\u001b[37m\u001b[0m \u001b[1m0s\u001b[0m 19ms/step\n",
      "bone_age_6/1941.png - Prediction: Bone Age 6 (Confidence: 0.91)\n",
      "\u001b[1m1/1\u001b[0m \u001b[32m━━━━━━━━━━━━━━━━━━━━\u001b[0m\u001b[37m\u001b[0m \u001b[1m0s\u001b[0m 18ms/step\n",
      "bone_age_6/2089.png - Prediction: Bone Age 6 (Confidence: 0.94)\n",
      "\u001b[1m1/1\u001b[0m \u001b[32m━━━━━━━━━━━━━━━━━━━━\u001b[0m\u001b[37m\u001b[0m \u001b[1m0s\u001b[0m 18ms/step\n",
      "bone_age_6/2451.png - Prediction: Bone Age 6 (Confidence: 0.80)\n",
      "\u001b[1m1/1\u001b[0m \u001b[32m━━━━━━━━━━━━━━━━━━━━\u001b[0m\u001b[37m\u001b[0m \u001b[1m0s\u001b[0m 17ms/step\n",
      "bone_age_6/2942.png - Prediction: Bone Age 6 (Confidence: 0.89)\n",
      "\u001b[1m1/1\u001b[0m \u001b[32m━━━━━━━━━━━━━━━━━━━━\u001b[0m\u001b[37m\u001b[0m \u001b[1m0s\u001b[0m 19ms/step\n",
      "bone_age_6/3008.png - Prediction: Bone Age 6 (Confidence: 0.89)\n",
      "\u001b[1m1/1\u001b[0m \u001b[32m━━━━━━━━━━━━━━━━━━━━\u001b[0m\u001b[37m\u001b[0m \u001b[1m0s\u001b[0m 22ms/step\n",
      "bone_age_6/4045.png - Prediction: Bone Age 6 (Confidence: 0.96)\n",
      "\u001b[1m1/1\u001b[0m \u001b[32m━━━━━━━━━━━━━━━━━━━━\u001b[0m\u001b[37m\u001b[0m \u001b[1m0s\u001b[0m 19ms/step\n",
      "bone_age_6/4190.png - Prediction: Bone Age 6 (Confidence: 0.84)\n",
      "\u001b[1m1/1\u001b[0m \u001b[32m━━━━━━━━━━━━━━━━━━━━\u001b[0m\u001b[37m\u001b[0m \u001b[1m0s\u001b[0m 17ms/step\n",
      "bone_age_6/4635.png - Prediction: Bone Age 12 (Confidence: 0.58)\n",
      "\u001b[1m1/1\u001b[0m \u001b[32m━━━━━━━━━━━━━━━━━━━━\u001b[0m\u001b[37m\u001b[0m \u001b[1m0s\u001b[0m 20ms/step\n",
      "bone_age_6/4692.png - Prediction: Bone Age 6 (Confidence: 0.72)\n",
      "\u001b[1m1/1\u001b[0m \u001b[32m━━━━━━━━━━━━━━━━━━━━\u001b[0m\u001b[37m\u001b[0m \u001b[1m0s\u001b[0m 20ms/step\n",
      "bone_age_6/5045.png - Prediction: Bone Age 6 (Confidence: 0.68)\n",
      "\u001b[1m1/1\u001b[0m \u001b[32m━━━━━━━━━━━━━━━━━━━━\u001b[0m\u001b[37m\u001b[0m \u001b[1m0s\u001b[0m 21ms/step\n",
      "bone_age_6/5234.png - Prediction: Bone Age 6 (Confidence: 0.53)\n",
      "\u001b[1m1/1\u001b[0m \u001b[32m━━━━━━━━━━━━━━━━━━━━\u001b[0m\u001b[37m\u001b[0m \u001b[1m0s\u001b[0m 18ms/step\n",
      "bone_age_6/5462.png - Prediction: Bone Age 12 (Confidence: 0.58)\n",
      "\u001b[1m1/1\u001b[0m \u001b[32m━━━━━━━━━━━━━━━━━━━━\u001b[0m\u001b[37m\u001b[0m \u001b[1m0s\u001b[0m 18ms/step\n",
      "bone_age_6/5549.png - Prediction: Bone Age 12 (Confidence: 0.61)\n",
      "\u001b[1m1/1\u001b[0m \u001b[32m━━━━━━━━━━━━━━━━━━━━\u001b[0m\u001b[37m\u001b[0m \u001b[1m0s\u001b[0m 22ms/step\n",
      "bone_age_6/5999.png - Prediction: Bone Age 6 (Confidence: 0.76)\n",
      "\u001b[1m1/1\u001b[0m \u001b[32m━━━━━━━━━━━━━━━━━━━━\u001b[0m\u001b[37m\u001b[0m \u001b[1m0s\u001b[0m 25ms/step\n",
      "bone_age_6/6001.png - Prediction: Bone Age 12 (Confidence: 0.58)\n",
      "\u001b[1m1/1\u001b[0m \u001b[32m━━━━━━━━━━━━━━━━━━━━\u001b[0m\u001b[37m\u001b[0m \u001b[1m0s\u001b[0m 18ms/step\n",
      "bone_age_6/6214.png - Prediction: Bone Age 12 (Confidence: 0.64)\n",
      "\u001b[1m1/1\u001b[0m \u001b[32m━━━━━━━━━━━━━━━━━━━━\u001b[0m\u001b[37m\u001b[0m \u001b[1m0s\u001b[0m 19ms/step\n",
      "bone_age_6/6362.png - Prediction: Bone Age 6 (Confidence: 0.63)\n",
      "\u001b[1m1/1\u001b[0m \u001b[32m━━━━━━━━━━━━━━━━━━━━\u001b[0m\u001b[37m\u001b[0m \u001b[1m0s\u001b[0m 25ms/step\n",
      "bone_age_6/6403.png - Prediction: Bone Age 6 (Confidence: 0.87)\n",
      "\u001b[1m1/1\u001b[0m \u001b[32m━━━━━━━━━━━━━━━━━━━━\u001b[0m\u001b[37m\u001b[0m \u001b[1m0s\u001b[0m 18ms/step\n",
      "bone_age_6/6710.png - Prediction: Bone Age 6 (Confidence: 0.79)\n",
      "\u001b[1m1/1\u001b[0m \u001b[32m━━━━━━━━━━━━━━━━━━━━\u001b[0m\u001b[37m\u001b[0m \u001b[1m0s\u001b[0m 20ms/step\n",
      "bone_age_6/7022.png - Prediction: Bone Age 6 (Confidence: 0.70)\n",
      "\u001b[1m1/1\u001b[0m \u001b[32m━━━━━━━━━━━━━━━━━━━━\u001b[0m\u001b[37m\u001b[0m \u001b[1m0s\u001b[0m 18ms/step\n",
      "bone_age_6/7274.png - Prediction: Bone Age 6 (Confidence: 0.73)\n",
      "\u001b[1m1/1\u001b[0m \u001b[32m━━━━━━━━━━━━━━━━━━━━\u001b[0m\u001b[37m\u001b[0m \u001b[1m0s\u001b[0m 19ms/step\n",
      "bone_age_6/7291.png - Prediction: Bone Age 6 (Confidence: 0.81)\n",
      "\u001b[1m1/1\u001b[0m \u001b[32m━━━━━━━━━━━━━━━━━━━━\u001b[0m\u001b[37m\u001b[0m \u001b[1m0s\u001b[0m 17ms/step\n",
      "bone_age_6/7337.png - Prediction: Bone Age 6 (Confidence: 0.85)\n",
      "\u001b[1m1/1\u001b[0m \u001b[32m━━━━━━━━━━━━━━━━━━━━\u001b[0m\u001b[37m\u001b[0m \u001b[1m0s\u001b[0m 24ms/step\n",
      "bone_age_6/7642.png - Prediction: Bone Age 6 (Confidence: 0.80)\n",
      "\u001b[1m1/1\u001b[0m \u001b[32m━━━━━━━━━━━━━━━━━━━━\u001b[0m\u001b[37m\u001b[0m \u001b[1m0s\u001b[0m 26ms/step\n",
      "bone_age_6/7743.png - Prediction: Bone Age 6 (Confidence: 0.78)\n",
      "\u001b[1m1/1\u001b[0m \u001b[32m━━━━━━━━━━━━━━━━━━━━\u001b[0m\u001b[37m\u001b[0m \u001b[1m0s\u001b[0m 21ms/step\n",
      "bone_age_6/7773.png - Prediction: Bone Age 6 (Confidence: 0.78)\n",
      "\u001b[1m1/1\u001b[0m \u001b[32m━━━━━━━━━━━━━━━━━━━━\u001b[0m\u001b[37m\u001b[0m \u001b[1m0s\u001b[0m 20ms/step\n",
      "bone_age_6/7872.png - Prediction: Bone Age 6 (Confidence: 0.86)\n",
      "\u001b[1m1/1\u001b[0m \u001b[32m━━━━━━━━━━━━━━━━━━━━\u001b[0m\u001b[37m\u001b[0m \u001b[1m0s\u001b[0m 20ms/step\n",
      "bone_age_6/7886.png - Prediction: Bone Age 6 (Confidence: 0.69)\n"
     ]
    }
   ],
   "source": [
    "# Get the filenames of the images in the test directory\n",
    "filenames = test_generator.filenames\n",
    "\n",
    "# Predict for each image\n",
    "for i, file in enumerate(filenames):\n",
    "    img = test_generator[i]  # Get the image (already preprocessed)\n",
    "    prediction = model.predict(img)  # Get the prediction\n",
    "\n",
    "    # Since 'bone_age_12' is class 0 and 'bone_age_6' is class 1:\n",
    "    if prediction >= 0.5:\n",
    "        print(f\"{file} - Prediction: Bone Age 6 (Confidence: {prediction[0][0]:.2f})\")\n",
    "    else:\n",
    "        print(f\"{file} - Prediction: Bone Age 12 (Confidence: {1 - prediction[0][0]:.2f})\")\n",
    "\n"
   ]
  },
  {
   "cell_type": "code",
   "execution_count": 16,
   "metadata": {
    "colab": {
     "base_uri": "https://localhost:8080/",
     "height": 723
    },
    "id": "oYlSdkOEfOwN",
    "outputId": "cdaf4256-f572-45e0-e506-8f6fa80f4ac7"
   },
   "outputs": [
    {
     "name": "stdout",
     "output_type": "stream",
     "text": [
      "Model loaded successfully!\n",
      "Found 126 images belonging to 2 classes.\n"
     ]
    },
    {
     "name": "stderr",
     "output_type": "stream",
     "text": [
      "/usr/local/lib/python3.10/dist-packages/keras/src/trainers/data_adapters/py_dataset_adapter.py:121: UserWarning: Your `PyDataset` class should call `super().__init__(**kwargs)` in its constructor. `**kwargs` can include `workers`, `use_multiprocessing`, `max_queue_size`. Do not pass these arguments to `fit()`, as they will be ignored.\n",
      "  self._warn_if_super_not_called()\n"
     ]
    },
    {
     "name": "stdout",
     "output_type": "stream",
     "text": [
      "\u001b[1m126/126\u001b[0m \u001b[32m━━━━━━━━━━━━━━━━━━━━\u001b[0m\u001b[37m\u001b[0m \u001b[1m6s\u001b[0m 48ms/step\n"
     ]
    },
    {
     "data": {
      "image/png": "[encoded data removed]",
      "text/plain": [
       "<Figure size 800x600 with 2 Axes>"
      ]
     },
     "metadata": {},
     "output_type": "display_data"
    },
    {
     "name": "stdout",
     "output_type": "stream",
     "text": [
      "             accuracy  precision  recall  f1-score  support\n",
      "Bone Age 12      0.97       0.80    0.97      0.88     63.0\n",
      "Bone Age 6       0.76       0.96    0.76      0.85     63.0\n"
     ]
    }
   ],
   "source": [
    "from sklearn.metrics import classification_report, confusion_matrix, accuracy_score\n",
    "import seaborn as sns\n",
    "import matplotlib.pyplot as plt\n",
    "from tensorflow.keras.models import load_model\n",
    "\n",
    "# Load the trained model\n",
    "model_path = '/content/drive/MyDrive/dataset/best_model_VGG16.keras'\n",
    "model = load_model(model_path)\n",
    "print(\"Model loaded successfully!\")\n",
    "\n",
    "# Path to the test directory\n",
    "test_dir = '/content/drive/MyDrive/dataset (1)/test'\n",
    "\n",
    "# Load and preprocess test images\n",
    "test_datagen = ImageDataGenerator(rescale=1./255)  # Rescale images\n",
    "\n",
    "test_generator = test_datagen.flow_from_directory(\n",
    "    test_dir,\n",
    "    target_size=(224, 224),\n",
    "    batch_size=1,  # One image at a time\n",
    "    class_mode='binary',  # Since we have two classes (bone_age_6 and bone_age_12)\n",
    "    shuffle=False  # Ensure images are processed in order\n",
    ")\n",
    "\n",
    "# Get the filenames and true labels\n",
    "filenames = test_generator.filenames\n",
    "true_labels = test_generator.classes  # This gives the actual class of each image\n",
    "\n",
    "# Predict classes for the images\n",
    "predictions = model.predict(test_generator)\n",
    "predicted_classes = (predictions >= 0.5).astype(int).flatten()  # Threshold at 0.5 for binary classification\n",
    "\n",
    "# Generate the confusion matrix\n",
    "cm = confusion_matrix(true_labels, predicted_classes)\n",
    "\n",
    "# Display the confusion matrix using Seaborn's heatmap\n",
    "plt.figure(figsize=(8, 6))\n",
    "sns.heatmap(cm, annot=True, fmt='d', cmap='Blues', xticklabels=['Bone Age 12', 'Bone Age 6'], yticklabels=['Bone Age 12', 'Bone Age 6'])\n",
    "plt.xlabel('Predicted')\n",
    "plt.ylabel('True')\n",
    "plt.title('Confusion Matrix')\n",
    "plt.show()\n",
    "\n",
    "# Calculate accuracy for each class manually\n",
    "accuracy_bone_age_12 = cm[0, 0] / sum(cm[0, :])  # TP / (TP + FN) for Bone Age 12\n",
    "accuracy_bone_age_6 = cm[1, 1] / sum(cm[1, :])   # TP / (TP + FN) for Bone Age 6\n",
    "\n",
    "# Print classification report without macro avg and weighted avg\n",
    "report = classification_report(true_labels, predicted_classes, target_names=['Bone Age 12', 'Bone Age 6'], output_dict=True)\n",
    "\n",
    "# Add the accuracy to the report for each class\n",
    "report['Bone Age 12']['accuracy'] = accuracy_bone_age_12\n",
    "report['Bone Age 6']['accuracy'] = accuracy_bone_age_6\n",
    "\n",
    "# Create a DataFrame to display the modified table\n",
    "import pandas as pd\n",
    "df = pd.DataFrame(report).transpose()\n",
    "\n",
    "# Drop the macro avg and weighted avg rows\n",
    "df = df.drop(['macro avg', 'weighted avg', 'accuracy'])\n",
    "\n",
    "# Reorder columns to include accuracy at the end\n",
    "df = df[[ 'accuracy', 'precision', 'recall', 'f1-score', 'support']]\n",
    "\n",
    "# Round the values to 2 decimal places\n",
    "df = df.round(2)\n",
    "\n",
    "# Display the modified classification report\n",
    "print(df)\n"
   ]
  }
 ],
 "metadata": {
  "accelerator": "GPU",
  "colab": {
   "gpuType": "T4",
   "provenance": []
  },
  "kernelspec": {
   "display_name": "Python 3",
   "name": "python3"
  },
  "language_info": {
   "codemirror_mode": {
    "name": "ipython",
    "version": 3
   },
   "file_extension": ".py",
   "mimetype": "text/x-python",
   "name": "python",
   "nbconvert_exporter": "python",
   "pygments_lexer": "ipython3",
   "version": "3.10.12"
  }
 },
 "nbformat": 4,
 "nbformat_minor": 0
}
